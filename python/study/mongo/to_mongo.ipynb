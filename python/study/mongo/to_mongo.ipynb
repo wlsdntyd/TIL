{
 "cells": [
  {
   "cell_type": "code",
   "execution_count": 30,
   "metadata": {},
   "outputs": [],
   "source": [
    "from selenium import webdriver as wd\n",
    "driver = wd.Chrome(executable_path='chromedriver.exe')\n",
    "from selenium.webdriver.common.by import By\n",
    "from selenium.webdriver.support.ui import WebDriverWait\n",
    "from selenium.webdriver.support import expected_conditions as EC\n",
    "import time\n",
    "driver.get('http://tour.interpark.com')\n",
    "driver.implicitly_wait(10)\n",
    "driver.find_element_by_id('SearchGNBText').send_keys('달랏')\n",
    "driver.find_element_by_css_selector('button.search-btn').click()\n",
    "WebDriverWait(driver, 10).until(\n",
    " EC.presence_of_element_located((By.CLASS_NAME, 'oTravelBox'))\n",
    ")\n",
    "driver.find_element_by_css_selector('.oTravelBox .moreBtn').click()\n",
    "\n",
    "data = []\n",
    "for page in range(1, 2):\n",
    "    driver.execute_script(\"searchModule.SetCategoryList(%s, '')\" % page)\n",
    "    time.sleep(2)\n",
    "    boxItems = driver.find_elements_by_css_selector('.panelZone > .oTravelBox > .boxList > li')\n",
    "    for li in boxItems:\n",
    "        dat = dict()\n",
    "        dat['img'] = li.find_element_by_css_selector('img.img').get_attribute('src')\n",
    "        dat['link'] = li.find_element_by_css_selector('a').get_attribute('onclick')\n",
    "        dat['title'] = li.find_element_by_css_selector('h5.proTit').text\n",
    "        dat['desc'] = li.find_element_by_css_selector('.proSub').text\n",
    "        dat['price'] = li.find_element_by_css_selector('strong.proPrice').text\n",
    "        data.append(dat)\n",
    "driver.close()"
   ]
  },
  {
   "cell_type": "code",
   "execution_count": 31,
   "metadata": {},
   "outputs": [
    {
     "name": "stdout",
     "output_type": "stream",
     "text": [
      "{'img': 'http://tourimage.interpark.com/product/tour/00161/A10/280/A1031420_1_027.jpg', 'link': \"searchModule.OnClickDetail('http://tour.interpark.com/goods/detail/?BaseGoodsCd=A1031420','')\", 'title': '[달랏4일] 낭만도시 달랏 직항+랑비앙 포함 3박4일', 'desc': '★직항 취항 기념 초특가★', 'price': '365,000 원~'}\n"
     ]
    }
   ],
   "source": [
    "print(data[0])"
   ]
  },
  {
   "cell_type": "code",
   "execution_count": 26,
   "metadata": {},
   "outputs": [],
   "source": [
    "from pymongo import MongoClient\n",
    "client = MongoClient(host='localhost', port=27017)\n",
    "db = client['tour']"
   ]
  },
  {
   "cell_type": "code",
   "execution_count": 32,
   "metadata": {},
   "outputs": [
    {
     "data": {
      "text/plain": [
       "<pymongo.results.InsertManyResult at 0x66d0c10>"
      ]
     },
     "execution_count": 32,
     "metadata": {},
     "output_type": "execute_result"
    }
   ],
   "source": [
    "db.tour.insert_many(data)"
   ]
  },
  {
   "cell_type": "code",
   "execution_count": 33,
   "metadata": {},
   "outputs": [],
   "source": [
    "cursor = db.tour.find()"
   ]
  },
  {
   "cell_type": "code",
   "execution_count": 34,
   "metadata": {},
   "outputs": [
    {
     "name": "stdout",
     "output_type": "stream",
     "text": [
      "{'_id': ObjectId('5e303500c2e8f47210c39338'), 'img': 'http://tourimage.interpark.com/product/tour/00161/A10/280/A1031420_1_027.jpg', 'link': \"searchModule.OnClickDetail('http://tour.interpark.com/goods/detail/?BaseGoodsCd=A1031420','')\", 'title': '[달랏4일] 낭만도시 달랏 직항+랑비앙 포함 3박4일', 'desc': '★직항 취항 기념 초특가★', 'price': '365,000 원~'}\n",
      "{'_id': ObjectId('5e303500c2e8f47210c39339'), 'img': 'http://tourimage.interpark.com/product/tour/00161/A10/280/A1024924_1_620.jpg', 'link': \"searchModule.OnClickDetail('http://tour.interpark.com/goods/detail/?BaseGoodsCd=A1024924','')\", 'title': '[나트랑/달랏5일] 시원한 낭만도시 랑비앙관광 5일', 'desc': '★떠오르는 베트남 인생여행지★', 'price': '434,700 원~'}\n",
      "{'_id': ObjectId('5e303500c2e8f47210c3933a'), 'img': 'http://tourimage.interpark.com/product/tour/00161/A10/280/A1025044_3_337.jpg', 'link': \"searchModule.OnClickDetail('http://tour.interpark.com/goods/detail/?BaseGoodsCd=A1025044','')\", 'title': '[대구출발_나트랑5일] 지금 핫한 그곳! 아름다운 나트랑/달랏 관광', 'desc': '머드온천&나트랑 시내관광 포함-동양의 나폴리 나트랑&달랏여행♥', 'price': '499,000 원~'}\n",
      "{'_id': ObjectId('5e303500c2e8f47210c3933b'), 'img': 'http://tourimage.interpark.com/product/tour/00161/A10/280/A1031349_1_470.jpg', 'link': \"searchModule.OnClickDetail('http://tour.interpark.com/goods/detail/?BaseGoodsCd=A1031349','')\", 'title': '[나트랑 5일★연합] 나트랑 1박/ 달랏 2박 꽉찬 관광일정', 'desc': '신규취항★뱀부항공/기내식제공/수하물20KG', 'price': '349,000 원~'}\n",
      "{'_id': ObjectId('5e303500c2e8f47210c3933c'), 'img': 'http://img.modetour.com/eagle/photoimg/42164/bfile/636724338253061415.JPG', 'link': \"searchModule.OnClickDetail('http://tour.interpark.com/goods/detail/?BaseGoodsCd=A1023759','')\", 'title': '*출발확정*[관광형] 나트랑x달랏 3박5일 [4성(1박)+달랏(2박)]', 'desc': '최대 7만원 쿠폰할인 (출발일 2020.01.01~2020.03.31)', 'price': '405,000 원~'}\n",
      "{'_id': ObjectId('5e303500c2e8f47210c3933d'), 'img': 'http://tourimage.interpark.com/product/tour/00161/A10/280/A1025396_7_460.jpg', 'link': \"searchModule.OnClickDetail('http://tour.interpark.com/goods/detail/?BaseGoodsCd=A1025396','')\", 'title': '[부산출발_나트랑5일] 떠오르는 여행지 나트랑 + 봄의 도시 달랏을 동시에!! 실속 관광형', 'desc': '전 일전 준특급호텔 + 아름다운 나트랑 달랏 관광♡', 'price': '499,000 원~'}\n",
      "{'_id': ObjectId('5e303500c2e8f47210c3933e'), 'img': 'http://img.modetour.com/eagle/photoimg/59122/bfile/636724338211701392.JPG', 'link': \"searchModule.OnClickDetail('http://tour.interpark.com/goods/detail/?BaseGoodsCd=A1031529','')\", 'title': '[영원한봄의도시] 달랏 패키지 3박4일 [5성호텔]', 'desc': '', 'price': '471,000 원~'}\n",
      "{'_id': ObjectId('5e303500c2e8f47210c3933f'), 'img': 'http://img.modetour.com/eagle/photoimg/42164/bfile/636724338249268660.JPG', 'link': \"searchModule.OnClickDetail('http://tour.interpark.com/goods/detail/?BaseGoodsCd=A1025809','')\", 'title': '*출발확정*[증편기][관광형] 나트랑x달랏 3박5일 [4성(1박)+달랏(2박)]', 'desc': '', 'price': '352,000 원~'}\n",
      "{'_id': ObjectId('5e303500c2e8f47210c39340'), 'img': 'http://img.modetour.com/eagle/photoimg/42171/bfile/636724338177366577.JPG', 'link': \"searchModule.OnClickDetail('http://tour.interpark.com/goods/detail/?BaseGoodsCd=A1025810','')\", 'title': '[증편기][관광형] 나트랑x달랏 3박5일 [5성(1박)+달랏(2박)]', 'desc': '', 'price': '405,000 원~'}\n",
      "{'_id': ObjectId('5e303500c2e8f47210c39341'), 'img': 'http://img.modetour.com/eagle/photoimg/56584/bfile/636453195339574051.JPG', 'link': \"searchModule.OnClickDetail('http://tour.interpark.com/goods/detail/?BaseGoodsCd=Q1011029','')\", 'title': '●연중 봄의 도시, 달랏● [5성호텔] 달랏 3색 골프(54홀) + 관광 3박 5일', 'desc': '', 'price': '1,480,000 원~'}\n"
     ]
    }
   ],
   "source": [
    "for data in list(cursor):\n",
    "    print(data)"
   ]
  }
 ],
 "metadata": {
  "kernelspec": {
   "display_name": "Python 3",
   "language": "python",
   "name": "python3"
  },
  "language_info": {
   "codemirror_mode": {
    "name": "ipython",
    "version": 3
   },
   "file_extension": ".py",
   "mimetype": "text/x-python",
   "name": "python",
   "nbconvert_exporter": "python",
   "pygments_lexer": "ipython3",
   "version": "3.7.4"
  }
 },
 "nbformat": 4,
 "nbformat_minor": 2
}
